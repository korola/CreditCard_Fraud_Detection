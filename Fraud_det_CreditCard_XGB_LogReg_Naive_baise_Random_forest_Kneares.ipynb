{
  "cells": [
    {
      "metadata": {
        "_uuid": "8c6d799cd112322cea6280f625421c8589ef4c57",
        "_cell_guid": "879b8287-ae8d-4314-a502-ae129652815d",
        "trusted": false,
        "collapsed": true
      },
      "cell_type": "code",
      "source": "# This Python 3 environment comes with many helpful analytics libraries installed\n# It is defined by the kaggle/python docker image: https://github.com/kaggle/docker-python\n# For example, here's several helpful packages to load in \n\nimport numpy as np # linear algebra\nimport pandas as pd # data processing, CSV file I/O (e.g. pd.read_csv)\nimport matplotlib.pyplot as plt\nimport seaborn as sns\nsns.set()\n# Input data files are available in the \"../input/\" directory.\n# For example, running this (by clicking run or pressing Shift+Enter) will list the files in the input directory\n\nfrom subprocess import check_output\nprint(check_output([\"ls\", \"../input\"]).decode(\"utf8\"))\n\n# Any results you write to the current directory are saved as output.",
      "execution_count": null,
      "outputs": []
    },
    {
      "metadata": {
        "_uuid": "ef3b6732b657590a2cac9162d2c3dce53ae7d58b",
        "_cell_guid": "b96460af-47eb-4349-9e87-6b4382e33c83",
        "trusted": false,
        "collapsed": true
      },
      "cell_type": "code",
      "source": "df = pd.read_csv('../input/creditcard.csv')\ndf.info()",
      "execution_count": null,
      "outputs": []
    },
    {
      "metadata": {
        "_uuid": "557a79e00dbc9025395b5d58ad702ebbd0942796",
        "_cell_guid": "df339bdc-f8a4-40b0-86f3-3cf6d8b57430",
        "trusted": false,
        "collapsed": true
      },
      "cell_type": "code",
      "source": "df.describe().T",
      "execution_count": null,
      "outputs": []
    },
    {
      "metadata": {
        "_uuid": "1e5b3ec471d71f5037c30d0263b25d08d94c7247",
        "_cell_guid": "b190afd8-9b73-416d-a6ab-dbfd6c3d36fc",
        "trusted": false,
        "collapsed": true
      },
      "cell_type": "code",
      "source": "df.head(5)",
      "execution_count": null,
      "outputs": []
    },
    {
      "metadata": {
        "_uuid": "2940ec4f3baddc1d150ab5a9d9956e729203a388"
      },
      "cell_type": "markdown",
      "source": "**Scatter Plots**"
    },
    {
      "metadata": {
        "scrolled": false,
        "_uuid": "e82211b7a2f65a4b0d66b7a48398002ef83904a2",
        "_cell_guid": "35bb1c51-a3ba-4f18-866a-379aa6da090d",
        "trusted": false,
        "collapsed": true
      },
      "cell_type": "code",
      "source": "fig, ax = plt.subplots(figsize=(10,5)) \nax.set_yticks(np.arange(0, 28000, 2500))\nax.set_ylabel(\"Amount ->\")\nax.set_xlabel(\"Index ->\")\nx1 = plt.scatter(x=df[(df.Class == 0)].index, y = df[(df.Class == 0)].Amount, alpha=0.4, c='g' )\nx2 = plt.scatter(x=df[(df.Class == 1)].index, y = df[(df.Class == 1)].Amount, c='r' )\nplt.legend([x1,x2],['G', 'F'])\nplt.title('Transaction Amount')",
      "execution_count": null,
      "outputs": []
    },
    {
      "metadata": {
        "_uuid": "fd07db15b0d9a117ad86300dfcaca2d390a09586",
        "_cell_guid": "caa6390a-b329-4c8f-bb98-7a126f8fa967"
      },
      "cell_type": "markdown",
      "source": "****ZOOM IN****"
    },
    {
      "metadata": {
        "_uuid": "e13604a6c736e4e81524ced40eef538d4ecbe3c1",
        "_cell_guid": "e24ff13b-30e5-4a46-a2e1-98eef6c46f12",
        "trusted": false,
        "collapsed": true
      },
      "cell_type": "code",
      "source": "fig, ax = plt.subplots(figsize=(10,5)) \nax.set_ylabel(\"Amount ->\")\nax.set_xlabel(\"Index ->\")\nx1 = plt.scatter(x=df[(df.Class == 0) & (df.Amount >= 2500)].index, y = df[(df.Class == 0) & (df.Amount >= 2500)].Amount, alpha=0.4, c='g' )\nx2 = plt.scatter(x=df[(df.Class == 1) & (df.Amount >= 2500)].index, y = df[(df.Class == 1) & (df.Amount >= 2500)].Amount, c='r' )\nplt.legend([x1,x2],['G', 'F'])\nplt.title('Transaction Amount => 2,500')",
      "execution_count": null,
      "outputs": []
    },
    {
      "metadata": {
        "scrolled": true,
        "_uuid": "c93ed337aad10f573a961f1a20814f0939f429bf",
        "_cell_guid": "57fdc849-8ab4-434c-887c-0c7ecb0d69f0",
        "trusted": false,
        "collapsed": true
      },
      "cell_type": "code",
      "source": "fig, ax = plt.subplots(figsize=(10,5)) \nax.set_yticks(np.arange(0, 2500, 100))\nax.set_ylabel(\"Amount ->\")\nax.set_xlabel(\"Index ->\")\nx1 = plt.scatter(x=df[(df.Class == 0) & (df.Amount < 2500)].index, y = df[(df.Class == 0) & (df.Amount < 2500)].Amount, alpha=0.4, c='g' )\nx2 = plt.scatter(x=df[df.Class == 1].index, y = df[df.Class == 1].Amount, c='r' )\nplt.legend([x1,x2],['G', 'F'])\nplt.title('Transaction Amount < 2,500')",
      "execution_count": null,
      "outputs": []
    },
    {
      "metadata": {
        "_uuid": "711dfe3fbf236e0ef03e75d5c5af23fe9137a6c6",
        "_cell_guid": "cf418673-7340-4912-a5f1-4e0e96e1f5e2"
      },
      "cell_type": "markdown",
      "source": "Amounts in fraudulent transactions were always below 2,500 "
    },
    {
      "metadata": {
        "_uuid": "7bac0a3f230bc87722d66c74aebae8d52f65a0bb",
        "_cell_guid": "09357538-27a7-40f2-bee1-72e9fc70d7df"
      },
      "cell_type": "markdown",
      "source": "Drop Time column as it doesn't look like an useful feature"
    },
    {
      "metadata": {
        "collapsed": true,
        "_uuid": "2c05c6b4492611e3ce107a1db74f6c780508c177",
        "_cell_guid": "8aac961a-9e03-4d07-b927-3c414f92d95e",
        "trusted": false
      },
      "cell_type": "code",
      "source": "df.drop('Time', axis=1, inplace=True)",
      "execution_count": null,
      "outputs": []
    },
    {
      "metadata": {
        "_uuid": "1dff9079106526038901a98e64880a0e4374cf87",
        "_cell_guid": "0ae158dc-553c-40c5-898f-a8feb78eff40"
      },
      "cell_type": "markdown",
      "source": "The feature \"Amount\" is not in the same scale as other features, this would cause the algorithm to give undeserving important to this feature."
    },
    {
      "metadata": {
        "collapsed": true,
        "_uuid": "d3bf364aac2f83fe508d5b07c5b80f483f405d06",
        "_cell_guid": "5b9b4e9c-6213-4ace-ae27-1d01132e184e",
        "trusted": false
      },
      "cell_type": "code",
      "source": "from sklearn.preprocessing import StandardScaler\nsc = StandardScaler()",
      "execution_count": null,
      "outputs": []
    },
    {
      "metadata": {
        "collapsed": true,
        "_uuid": "943afa65eeed66f3bf265218e7e222ba8c693dee",
        "_cell_guid": "d68ec99d-12a3-44b6-aeea-18b7dcc239e7",
        "trusted": false
      },
      "cell_type": "code",
      "source": "df.Amount = sc.fit_transform(df.Amount.values.reshape(-1, 1))",
      "execution_count": null,
      "outputs": []
    },
    {
      "metadata": {
        "_uuid": "d34ac8076729c59766d1c72b2c8b0ba3c5e043c8",
        "_cell_guid": "3f92c255-6e79-489a-9b21-24016a04b8d6"
      },
      "cell_type": "markdown",
      "source": "Separate fraudulent and genuine transactions "
    },
    {
      "metadata": {
        "collapsed": true,
        "_uuid": "d835c012d99a98532328a678e672adab7788542e",
        "_cell_guid": "b742180f-ee45-4f87-abb9-af63c4588cdc",
        "trusted": false
      },
      "cell_type": "code",
      "source": "df_nf = df[df.Class == 0]",
      "execution_count": null,
      "outputs": []
    },
    {
      "metadata": {
        "collapsed": true,
        "_uuid": "39f10762d966a164e58251ae602f89d297ea538f",
        "_cell_guid": "82c0cb13-0983-4014-83e4-c2b763140d49",
        "trusted": false
      },
      "cell_type": "code",
      "source": "y_nf = df_nf.Class",
      "execution_count": null,
      "outputs": []
    },
    {
      "metadata": {
        "_uuid": "1257ba7253c0576c8213051b6202e82b73e6a98d",
        "_cell_guid": "6d6b7b3d-1e6b-45cb-a968-a42df873819e",
        "trusted": false,
        "collapsed": true
      },
      "cell_type": "code",
      "source": "df_nf.drop('Class', axis=1, inplace=True)",
      "execution_count": null,
      "outputs": []
    },
    {
      "metadata": {
        "collapsed": true,
        "_uuid": "6443dd3c60909bf8e4c74c0fc8b39ff10948a4b4",
        "_cell_guid": "b42f2485-f502-4ad9-9087-4c2297d00b47",
        "trusted": false
      },
      "cell_type": "code",
      "source": "df_f = df[df.Class == 1]",
      "execution_count": null,
      "outputs": []
    },
    {
      "metadata": {
        "collapsed": true,
        "_uuid": "15e688e2e0405655b203e294dd9df2a7180e9f0d",
        "_cell_guid": "696df3cb-a20a-43c5-ab24-bdcf101d9a5a",
        "trusted": false
      },
      "cell_type": "code",
      "source": "y_f = df_f.Class",
      "execution_count": null,
      "outputs": []
    },
    {
      "metadata": {
        "_uuid": "f11ff39c68930626e69657900b2c95399a00dcb5",
        "_cell_guid": "e38d3284-9cd0-4464-8bf3-cd304acc95b9",
        "trusted": false,
        "collapsed": true
      },
      "cell_type": "code",
      "source": "df_f.drop('Class', axis=1, inplace=True)",
      "execution_count": null,
      "outputs": []
    },
    {
      "metadata": {
        "_uuid": "8e9f3beb9f62ef82bdef73598e70f7dd15e89e53",
        "_cell_guid": "b1af2b9a-3479-426d-a78d-2bee984293e3"
      },
      "cell_type": "markdown",
      "source": "Split the data into train and test sets, for anomaly detection algorithms, it is preferable not to include the outliers; here the outliers are the fraudulent transactions"
    },
    {
      "metadata": {
        "collapsed": true,
        "_uuid": "9507c8469b6d30fe4b785a00c1b86b270774ef3e",
        "_cell_guid": "c6aa4065-be13-46ea-b9a3-9ec11d57a051",
        "trusted": false
      },
      "cell_type": "code",
      "source": "from sklearn.model_selection import train_test_split",
      "execution_count": null,
      "outputs": []
    },
    {
      "metadata": {
        "collapsed": true,
        "_uuid": "651e1219f839e60a096e01af4ee13722cd633d33",
        "_cell_guid": "6e27799e-74e8-40ce-a2bd-a63af233e8b6",
        "trusted": false
      },
      "cell_type": "code",
      "source": "X_train, X_nf, y_train, y_nf = train_test_split(df_nf.iloc[0:50000], y_nf[0:50000], test_size=0.30, random_state=101)",
      "execution_count": null,
      "outputs": []
    },
    {
      "metadata": {
        "_uuid": "889e4ed77f0a803f5719ec5aad9f4240a46f0719",
        "_cell_guid": "be58b380-76ad-4e8a-89e8-6aec6451f378"
      },
      "cell_type": "markdown",
      "source": "To the test set add all the fraudulent transactions, if the model is good, all these fraudulent transactions should be identified as outliers"
    },
    {
      "metadata": {
        "collapsed": true,
        "_uuid": "2b8eae258417efb067c627771e4927ea9a868cf7",
        "_cell_guid": "2e9efd56-1aad-4d6d-8461-dcc8817bacad",
        "trusted": false
      },
      "cell_type": "code",
      "source": "X_test = pd.concat([X_nf,df_f])",
      "execution_count": null,
      "outputs": []
    },
    {
      "metadata": {
        "collapsed": true,
        "_uuid": "fdabb2ed6c08092689735d571c88080807347d48",
        "_cell_guid": "756bd2bc-da3b-4bff-ae6a-9cc148259a9d",
        "trusted": false
      },
      "cell_type": "code",
      "source": "y_test = pd.concat([y_nf,y_f])",
      "execution_count": null,
      "outputs": []
    },
    {
      "metadata": {
        "collapsed": true,
        "_uuid": "15e0c88ccdaa4ae711462ba66c2efbbd8fd2a2d1",
        "_cell_guid": "b858f2dd-d488-4aca-bbdf-6aaa6f3b0216",
        "trusted": false
      },
      "cell_type": "code",
      "source": "y_test.sort_index(inplace=True)",
      "execution_count": null,
      "outputs": []
    },
    {
      "metadata": {
        "collapsed": true,
        "_uuid": "729d5c8bd15be5dff2f1bfb1c9bc496303341f5a",
        "_cell_guid": "e3208824-34c5-471f-b5e8-3da28f91db9a",
        "trusted": false
      },
      "cell_type": "code",
      "source": "X_test.sort_index(inplace=True)",
      "execution_count": null,
      "outputs": []
    },
    {
      "metadata": {
        "_uuid": "ca134fe8844cd60f917a7a0745db5fbc932fd6c3",
        "_cell_guid": "6a4af925-afa6-4141-9ab3-caee4a6eff1e"
      },
      "cell_type": "markdown",
      "source": "**Isolation Forest model**"
    },
    {
      "metadata": {
        "collapsed": true,
        "_uuid": "3463edb15a48af118edaab4d6a6944f5b823fb05",
        "_cell_guid": "c955a065-4d3e-4e6f-934d-bde2d05e36ca",
        "trusted": false
      },
      "cell_type": "code",
      "source": "from sklearn.ensemble import IsolationForest",
      "execution_count": null,
      "outputs": []
    },
    {
      "metadata": {
        "collapsed": true,
        "_uuid": "403c0934ae2681294072c5dc3d3ee0d33881a4c5",
        "_cell_guid": "7125dfbf-2eb2-4ce5-bee9-8687d8c6dd95",
        "trusted": false
      },
      "cell_type": "code",
      "source": "isf = IsolationForest(contamination=0.0, bootstrap=True, n_estimators=200)",
      "execution_count": null,
      "outputs": []
    },
    {
      "metadata": {
        "_uuid": "45cef343b8a55b31272cc4e71333954ed2ec411e",
        "_cell_guid": "e15acdb2-56e9-4893-bf64-25f79e6f5c4d",
        "trusted": false,
        "collapsed": true
      },
      "cell_type": "code",
      "source": "isf.fit(X_train)",
      "execution_count": null,
      "outputs": []
    },
    {
      "metadata": {
        "collapsed": true,
        "_uuid": "12ace1e098599aa9440fb3fb645dd74716a8ee8f",
        "_cell_guid": "6f101e8c-2d7b-48cd-841e-fc9c1be9ccf1",
        "trusted": false
      },
      "cell_type": "code",
      "source": "pred = isf.predict(X_test)",
      "execution_count": null,
      "outputs": []
    },
    {
      "metadata": {
        "collapsed": true,
        "_uuid": "9a540bf0b46f3e163b987e5d8cf1c5955384ebac",
        "_cell_guid": "9b811512-3ba6-4aca-ab17-7467f6aeba84",
        "trusted": false
      },
      "cell_type": "code",
      "source": "pred_t =[]\ncount = 0\nfor each in pred:\n    if each == -1:\n        count = count + 1\n        pred_t.append(0)\n    else:\n        pred_t.append(1)",
      "execution_count": null,
      "outputs": []
    },
    {
      "metadata": {
        "_uuid": "e34d91e32c48a46e2fdf546051e60173ceba8459",
        "_cell_guid": "67e2fc79-0b5b-4ec9-a6a3-a92fb0b46be8",
        "trusted": false,
        "collapsed": true
      },
      "cell_type": "code",
      "source": "set(pred_t)",
      "execution_count": null,
      "outputs": []
    },
    {
      "metadata": {
        "collapsed": true,
        "_uuid": "45006fc6ae61497800a6a54f4619523fb8669a13",
        "_cell_guid": "2ad59b1d-9652-46fb-85ae-087ded5a4116",
        "trusted": false
      },
      "cell_type": "code",
      "source": "from sklearn.metrics import confusion_matrix, classification_report",
      "execution_count": null,
      "outputs": []
    },
    {
      "metadata": {
        "_uuid": "0c54af50ef0eb8c601e12557232664025f4ebb42",
        "_cell_guid": "47f0cac0-2577-4b79-8544-66321f4a2ffe",
        "trusted": false,
        "collapsed": true
      },
      "cell_type": "code",
      "source": "confusion_matrix(y_test, pred_t)",
      "execution_count": null,
      "outputs": []
    },
    {
      "metadata": {
        "_uuid": "2494c5568e53aaea393bc233bd129fea4916c1c7",
        "_cell_guid": "bb5771c4-4502-4e4a-8051-5c16dae83baf",
        "trusted": false,
        "collapsed": true
      },
      "cell_type": "code",
      "source": "print(classification_report(y_test, pred_t))",
      "execution_count": null,
      "outputs": []
    },
    {
      "metadata": {
        "_uuid": "deb5a72863e85540d7935816d3807c9ae99bd5a8",
        "_cell_guid": "c8afed34-3653-4fbc-b8fd-9a1f356d97e4"
      },
      "cell_type": "markdown",
      "source": "Isolation forest predicted all observations as outliers, since anomaly detection failed miserably for the given data, we will try our luck with some supervised learning algorithms next"
    },
    {
      "metadata": {
        "_uuid": "e33b2496d07daa41f1a234293d1dfe0c1de57ff4",
        "_cell_guid": "d6a8b62b-2f15-4ee4-819f-e9fc15ed86b0"
      },
      "cell_type": "markdown",
      "source": "The major issue with the given data is that it is highly skewed, if we use the entire data to train the model, it would predict majority of fraudulent transactions as genuine. The best method to avoid this issue is to  down sample the genuine transactions and mix it with the entire fraudulent transactions. This would help us to reduce the skew and the model will  preform noticeably better."
    },
    {
      "metadata": {
        "_uuid": "a435e1e23fa73984c9821112c91157ddcdb71683",
        "trusted": false,
        "collapsed": true
      },
      "cell_type": "code",
      "source": "print(\"SKEW :-\" , df.Class.skew())",
      "execution_count": null,
      "outputs": []
    },
    {
      "metadata": {
        "collapsed": true,
        "_uuid": "1d27d021504461e9014bb65357ea4415ee35397e",
        "_cell_guid": "efe42b36-64a1-4df7-b1bf-7a776e003daa",
        "trusted": false
      },
      "cell_type": "code",
      "source": "df_nf = df[df.Class == 0].sample(frac=0.005, random_state=101)",
      "execution_count": null,
      "outputs": []
    },
    {
      "metadata": {
        "_uuid": "ae9bd2c299597ae6d8bccd313b14c455ee950888",
        "_cell_guid": "9ba3d056-0346-42a7-9d65-cdb8f8dca471",
        "trusted": false,
        "collapsed": true
      },
      "cell_type": "code",
      "source": "df_nf.shape",
      "execution_count": null,
      "outputs": []
    },
    {
      "metadata": {
        "collapsed": true,
        "_uuid": "0a0b179bed63e26067adbbcdfc8b3d7152dd0439",
        "_cell_guid": "9b160e19-a2c1-41bb-b304-53e08564165c",
        "trusted": false
      },
      "cell_type": "code",
      "source": "y_nf = df_nf.Class",
      "execution_count": null,
      "outputs": []
    },
    {
      "metadata": {
        "collapsed": true,
        "_uuid": "3ba8e1de86e8362e31fd1d7e99f4988f6a33c9d5",
        "_cell_guid": "3fbba7c2-65d6-4cc8-9715-fe46267ab3ec",
        "trusted": false
      },
      "cell_type": "code",
      "source": "df_nf.drop('Class', axis=1, inplace=True)",
      "execution_count": null,
      "outputs": []
    },
    {
      "metadata": {
        "collapsed": true,
        "_uuid": "c957ec8925a22e692aa9eb5b809ec67e49f8fe29",
        "_cell_guid": "37a7bc0e-f957-4051-a62b-586bf59e6638",
        "trusted": false
      },
      "cell_type": "code",
      "source": "df_new = pd.concat([df_nf, df_f])",
      "execution_count": null,
      "outputs": []
    },
    {
      "metadata": {
        "collapsed": true,
        "_uuid": "e6922a047d882744454f4bdc5afd4de922c812f3",
        "_cell_guid": "f6a28e9f-f452-4457-82ba-cc63974a9138",
        "trusted": false
      },
      "cell_type": "code",
      "source": "y_new = pd.concat([y_nf, y_f])",
      "execution_count": null,
      "outputs": []
    },
    {
      "metadata": {
        "_uuid": "33ebee632d5c17845d7b119015d17e88c47ecf6e",
        "trusted": false,
        "collapsed": true
      },
      "cell_type": "code",
      "source": "print(\"SKEW :-\" , y_new.skew())",
      "execution_count": null,
      "outputs": []
    },
    {
      "metadata": {
        "collapsed": true,
        "_uuid": "20355084283b847fff4923ed61f44eada2381fc7",
        "_cell_guid": "d637173b-6945-4474-b67c-dfc00b69efb2",
        "trusted": false
      },
      "cell_type": "code",
      "source": "from sklearn.model_selection import train_test_split",
      "execution_count": null,
      "outputs": []
    },
    {
      "metadata": {
        "collapsed": true,
        "_uuid": "9bb412c8363caadfe2892a2b5d1d46d75ae09b41",
        "_cell_guid": "363a0bbb-907b-4422-bfa3-d7d758a5284d",
        "trusted": false
      },
      "cell_type": "code",
      "source": "X_train, X_test, y_train, y_test = train_test_split(df_new, y_new, test_size=0.30, random_state=101)",
      "execution_count": null,
      "outputs": []
    },
    {
      "metadata": {
        "collapsed": true,
        "_uuid": "055de5d4b70916a98407c7ee554389567564f4d2",
        "_cell_guid": "6e0b086c-1342-4acf-a8da-cd5dc03972f2",
        "trusted": false
      },
      "cell_type": "code",
      "source": "from sklearn.linear_model import LogisticRegression",
      "execution_count": null,
      "outputs": []
    },
    {
      "metadata": {
        "_uuid": "754f88e8e6258da9e0ef21c54e4c7f7601a6da30"
      },
      "cell_type": "markdown",
      "source": "**Logistic Regression**"
    },
    {
      "metadata": {
        "collapsed": true,
        "_uuid": "d03926b72e84eff45967fe6300e0755ef4bf4faa",
        "_cell_guid": "67218dc7-dc83-4b0a-96b9-e40169ec2b32",
        "trusted": false
      },
      "cell_type": "code",
      "source": "lr = LogisticRegression(C=2)",
      "execution_count": null,
      "outputs": []
    },
    {
      "metadata": {
        "_uuid": "e400a02b1fc43f7ea53477f680da17b92e60cc32",
        "_cell_guid": "dca635c0-19dc-4436-840b-5022a21bacc5",
        "trusted": false,
        "collapsed": true
      },
      "cell_type": "code",
      "source": "lr.fit(X_train,y_train)",
      "execution_count": null,
      "outputs": []
    },
    {
      "metadata": {
        "collapsed": true,
        "_uuid": "f577ae4bc4c023ee061555502d55847115ded6c9",
        "_cell_guid": "d55a6cc6-1a85-4266-b26b-53bec88679d0",
        "trusted": false
      },
      "cell_type": "code",
      "source": "pred = lr.predict(X_test)",
      "execution_count": null,
      "outputs": []
    },
    {
      "metadata": {
        "collapsed": true,
        "_uuid": "021a93a6515d43382621f9c133401b6294af93b9",
        "_cell_guid": "d845dedf-67d9-4f25-9b9f-77b83ff4260d",
        "trusted": false
      },
      "cell_type": "code",
      "source": "from sklearn.metrics import confusion_matrix, classification_report",
      "execution_count": null,
      "outputs": []
    },
    {
      "metadata": {
        "_uuid": "08da8b94b81bb7c538b2c6dda4aca368ab3feb9c",
        "_cell_guid": "08d49331-7c67-4b56-8ab6-63d84f75104b",
        "trusted": false,
        "collapsed": true
      },
      "cell_type": "code",
      "source": "confusion_matrix(y_test, pred)",
      "execution_count": null,
      "outputs": []
    },
    {
      "metadata": {
        "_uuid": "0de4e75767c6738a185754cd53cfd4d87e684edc",
        "_cell_guid": "2d43bc5c-0868-44cc-a9a2-811178d9b9b5",
        "trusted": false,
        "collapsed": true
      },
      "cell_type": "code",
      "source": "print(classification_report(y_test, pred))",
      "execution_count": null,
      "outputs": []
    },
    {
      "metadata": {
        "_uuid": "ba06a00ae70684536ce1819343a9805bee289405"
      },
      "cell_type": "markdown",
      "source": "With a recall score of 0.97, logistic regression is doing better with the sampled data. We will increase the recall score of fraudulent transactions to 1.0 so that none of them goes undetected, in the process, a few genuine transactions will be classified as fraudulent but for this particular scenario that would be acceptable."
    },
    {
      "metadata": {
        "collapsed": true,
        "_uuid": "824d641d2f247a1f464ce59256d38d7e0f264913",
        "_cell_guid": "c52b7d57-494e-4046-9f1f-b12f63d589b4",
        "trusted": false
      },
      "cell_type": "code",
      "source": "pred_prob  = lr.predict_proba(X_test)",
      "execution_count": null,
      "outputs": []
    },
    {
      "metadata": {
        "collapsed": true,
        "_uuid": "db8bd66f83491d6c99e3b8859449e51b8012d9f3",
        "_cell_guid": "39921efb-5458-4540-81f1-ed6bdf1916ee",
        "trusted": false
      },
      "cell_type": "code",
      "source": "pred_prob_C = []\nfor each in pred_prob:\n    if each[0] > .9831:\n        pred_prob_C.append(0)\n    else:\n        pred_prob_C.append(1)",
      "execution_count": null,
      "outputs": []
    },
    {
      "metadata": {
        "_uuid": "da508bc64d1764985a9bf0be318781adea91be50",
        "_cell_guid": "9df08b62-a23f-4087-abaa-a99335967d5c",
        "trusted": false,
        "collapsed": true
      },
      "cell_type": "code",
      "source": "confusion_matrix(y_test, pred_prob_C)",
      "execution_count": null,
      "outputs": []
    },
    {
      "metadata": {
        "_uuid": "2336ad0c6df212557918a44d411db42f65dd646e",
        "_cell_guid": "41d81c29-d0a0-4c0e-805b-a1843924e60e",
        "trusted": false,
        "collapsed": true
      },
      "cell_type": "code",
      "source": "print(classification_report(y_test, pred_prob_C))",
      "execution_count": null,
      "outputs": []
    },
    {
      "metadata": {
        "_uuid": "d7a1fba4bfcf164dc4f92bbdc12480bec99e2120"
      },
      "cell_type": "markdown",
      "source": "**Random Forest**"
    },
    {
      "metadata": {
        "collapsed": true,
        "_uuid": "34d630e234a14870b235d15b0e2e69726697bb43",
        "_cell_guid": "8892d908-f65b-48af-99d6-ee2e55335831",
        "trusted": false
      },
      "cell_type": "code",
      "source": "from sklearn.ensemble import RandomForestClassifier",
      "execution_count": null,
      "outputs": []
    },
    {
      "metadata": {
        "collapsed": true,
        "_uuid": "7dcb8f221ce9a8904dfcb6ef08c146dda349eb57",
        "_cell_guid": "2a36e0ac-b7b5-4945-b110-a7d594ccd357",
        "trusted": false
      },
      "cell_type": "code",
      "source": "rf = RandomForestClassifier(n_estimators=50)",
      "execution_count": null,
      "outputs": []
    },
    {
      "metadata": {
        "_uuid": "d70a283df5c68c6e911cdaab05b94554162d2461",
        "_cell_guid": "90e74c15-72f3-4e01-a5e5-91563aabdf99",
        "trusted": false,
        "collapsed": true
      },
      "cell_type": "code",
      "source": "rf.fit(X_train, y_train)",
      "execution_count": null,
      "outputs": []
    },
    {
      "metadata": {
        "collapsed": true,
        "_uuid": "97ae18ac32d61208e0a8198a9ebb92a47f06840c",
        "_cell_guid": "e3c154f4-fcc5-4b34-a70f-af1b156814da",
        "trusted": false
      },
      "cell_type": "code",
      "source": "pred = rf.predict(X_test)",
      "execution_count": null,
      "outputs": []
    },
    {
      "metadata": {
        "_uuid": "aa577177fbc3e80ffed9170f9c999a6521cbcdfb",
        "_cell_guid": "e8b40b6c-5b37-45c1-8705-3375db146529",
        "trusted": false,
        "collapsed": true
      },
      "cell_type": "code",
      "source": "confusion_matrix(y_test, pred)",
      "execution_count": null,
      "outputs": []
    },
    {
      "metadata": {
        "_uuid": "57ac8cfefc23fce19f9216fefa7069299fd74a07",
        "_cell_guid": "69e3e23f-6b87-4521-842e-a841a9cd390d",
        "trusted": false,
        "collapsed": true
      },
      "cell_type": "code",
      "source": "print(classification_report(y_test, pred))",
      "execution_count": null,
      "outputs": []
    },
    {
      "metadata": {
        "collapsed": true,
        "_uuid": "ac51567949b3541c4592b35b9ad5e738a576ff0e",
        "_cell_guid": "8ecb37d4-da50-471c-8084-df5c28a37ad5",
        "trusted": false
      },
      "cell_type": "code",
      "source": "pred_prob_C = rf.predict_proba(X_test)",
      "execution_count": null,
      "outputs": []
    },
    {
      "metadata": {
        "collapsed": true,
        "_uuid": "066844d2cc7015e550cb246ba0587a85dd26af52",
        "_cell_guid": "e9b18107-a2b3-41e9-970c-375723528d75",
        "trusted": false
      },
      "cell_type": "code",
      "source": "pred_prob_C = []\nfor each in pred_prob:\n    if each[0] > .9831:\n        pred_prob_C.append(0)\n    else:\n        pred_prob_C.append(1)",
      "execution_count": null,
      "outputs": []
    },
    {
      "metadata": {
        "_uuid": "da86c9c0ba4bce8d5f6ef68224e411f58d3df4b5",
        "_cell_guid": "f56afddd-9b68-4692-864e-d736965499f3",
        "trusted": false,
        "collapsed": true
      },
      "cell_type": "code",
      "source": "confusion_matrix(y_test, pred_prob_C)",
      "execution_count": null,
      "outputs": []
    },
    {
      "metadata": {
        "_uuid": "38e49c2392508ef634bc2ff27fa0751bddbac6af",
        "_cell_guid": "1d377a9b-60e3-4741-95aa-61baaae4b4af",
        "trusted": false,
        "collapsed": true
      },
      "cell_type": "code",
      "source": "print(classification_report(y_test, pred_prob_C))",
      "execution_count": null,
      "outputs": []
    },
    {
      "metadata": {
        "_uuid": "5b6e1b3e361532131526cdb409e1bad01ab1e82f"
      },
      "cell_type": "markdown",
      "source": "**Support Vector Classifier**"
    },
    {
      "metadata": {
        "collapsed": true,
        "_uuid": "e98e0cb77f35c07fce1679f125416cfd4fa6dc03",
        "_cell_guid": "892b2488-8869-4fdf-baae-a515e2b5ceb4",
        "trusted": false
      },
      "cell_type": "code",
      "source": "from sklearn.svm import SVC",
      "execution_count": null,
      "outputs": []
    },
    {
      "metadata": {
        "collapsed": true,
        "_uuid": "1a9b9cb3c13ea99483a662921edc3e78a284e30b",
        "_cell_guid": "4d3c4ef7-e93e-4494-a544-1bc65713ea3d",
        "trusted": false
      },
      "cell_type": "code",
      "source": "svc = SVC(C=3, probability=True)",
      "execution_count": null,
      "outputs": []
    },
    {
      "metadata": {
        "_uuid": "54d9f627002ab7e1493107e7cd83d158db34ae00",
        "_cell_guid": "1296679f-fa63-4e96-8cef-53ad3660c454",
        "trusted": false,
        "collapsed": true
      },
      "cell_type": "code",
      "source": "svc.fit(X_train,y_train)",
      "execution_count": null,
      "outputs": []
    },
    {
      "metadata": {
        "collapsed": true,
        "_uuid": "dabc4d35ee0f345cb0eb33e5965de1ae83de9638",
        "_cell_guid": "f5bc10f2-9c24-462d-89db-313de8c46baf",
        "trusted": false
      },
      "cell_type": "code",
      "source": "pred = svc.predict(X_test)",
      "execution_count": null,
      "outputs": []
    },
    {
      "metadata": {
        "_uuid": "d12bf6a67d399cf06c03b7cb29c1c4f7c2336629",
        "_cell_guid": "569f518e-135c-4c2a-a7f6-7100a1fa00be",
        "trusted": false,
        "collapsed": true
      },
      "cell_type": "code",
      "source": "confusion_matrix(y_test, pred)",
      "execution_count": null,
      "outputs": []
    },
    {
      "metadata": {
        "_uuid": "6fbc6106b0ed65eb51f7e6e96e96ff4ef4c18ff5",
        "_cell_guid": "887bd1c6-51b2-4dbd-a70f-fa4bb000965a",
        "trusted": false,
        "collapsed": true
      },
      "cell_type": "code",
      "source": "print(classification_report(y_test, pred))",
      "execution_count": null,
      "outputs": []
    },
    {
      "metadata": {
        "collapsed": true,
        "_uuid": "ca1a0648861f49233cc1dbeb69893c113b87398a",
        "_cell_guid": "afa5f276-18a0-4f8b-b9fa-786976ef1423",
        "trusted": false
      },
      "cell_type": "code",
      "source": "pred_prob_C = svc.predict_proba(X_test)",
      "execution_count": null,
      "outputs": []
    },
    {
      "metadata": {
        "collapsed": true,
        "_uuid": "51986422c592954ad03cce10206b07609ffc693b",
        "_cell_guid": "6a409617-2048-4b77-b1b2-ad60d9249968",
        "trusted": false
      },
      "cell_type": "code",
      "source": "pred_prob_C = []\nfor each in pred_prob:\n    if each[0] > .9831:\n        pred_prob_C.append(0)\n    else:\n        pred_prob_C.append(1)",
      "execution_count": null,
      "outputs": []
    },
    {
      "metadata": {
        "_uuid": "e970333f32ee581005e6e59ec14d0b0566d549a4",
        "_cell_guid": "805fb8bd-d631-44ec-88e8-700db039033b",
        "trusted": false,
        "collapsed": true
      },
      "cell_type": "code",
      "source": "confusion_matrix(y_test, pred_prob_C)",
      "execution_count": null,
      "outputs": []
    },
    {
      "metadata": {
        "_uuid": "dd3f538c057641d66d9e8bb2b97426cf76e9a4d7",
        "_cell_guid": "0263504c-8430-4e40-8fb2-4677d1a8630f",
        "trusted": false,
        "collapsed": true
      },
      "cell_type": "code",
      "source": "print(classification_report(y_test, pred_prob_C))",
      "execution_count": null,
      "outputs": []
    },
    {
      "metadata": {
        "_uuid": "d5ccc9c6397ea20d15b1e4f472c0d4c5eb13b160"
      },
      "cell_type": "markdown",
      "source": "**Nearest Neighbor**"
    },
    {
      "metadata": {
        "collapsed": true,
        "_uuid": "6e279de65e6f22261d23157561f9a644f4cb76dc",
        "_cell_guid": "ec15862a-5677-4936-a0b3-687219e8385d",
        "trusted": false
      },
      "cell_type": "code",
      "source": "from sklearn.neighbors import KNeighborsClassifier",
      "execution_count": null,
      "outputs": []
    },
    {
      "metadata": {
        "collapsed": true,
        "_uuid": "622285d2b689d6eb62cba1f178e24368f6c78c44",
        "_cell_guid": "b2f783f3-6ff5-4069-9e91-9096b95dfd32",
        "trusted": false
      },
      "cell_type": "code",
      "source": "knn = KNeighborsClassifier(n_neighbors=3)",
      "execution_count": null,
      "outputs": []
    },
    {
      "metadata": {
        "_uuid": "f222545f6fb9cfffbb845056ede639e36f33caea",
        "_cell_guid": "905d4e1b-2a22-4513-830f-641b855d246c",
        "trusted": false,
        "collapsed": true
      },
      "cell_type": "code",
      "source": "knn.fit(X_train,y_train)",
      "execution_count": null,
      "outputs": []
    },
    {
      "metadata": {
        "collapsed": true,
        "_uuid": "2fe1da389bb3688d02c17f4a7bd4456782a0739c",
        "_cell_guid": "6df76d9d-cbc3-4b44-ae38-975db3823740",
        "trusted": false
      },
      "cell_type": "code",
      "source": "pred = knn.predict(X_test)",
      "execution_count": null,
      "outputs": []
    },
    {
      "metadata": {
        "_uuid": "17aae1b4d1b1dbccc17e1830b3efbfa4128f7f94",
        "_cell_guid": "911616d8-954c-44b2-a4fc-be54d230bf58",
        "trusted": false,
        "collapsed": true
      },
      "cell_type": "code",
      "source": "confusion_matrix(y_test, pred)",
      "execution_count": null,
      "outputs": []
    },
    {
      "metadata": {
        "_uuid": "100e6be88d4b0fb83283f42eb763f022308215c7",
        "_cell_guid": "76f44c55-7f8a-4281-ab00-45b512f5e568",
        "trusted": false,
        "collapsed": true
      },
      "cell_type": "code",
      "source": "print(classification_report(y_test, pred))",
      "execution_count": null,
      "outputs": []
    },
    {
      "metadata": {
        "collapsed": true,
        "_uuid": "92892da3ec4e58601466337bb1d1101887d94ddc",
        "_cell_guid": "00868e18-8f94-4a7f-b341-5a247559ea2c",
        "trusted": false
      },
      "cell_type": "code",
      "source": "pred_prob_C = svc.predict_proba(X_test)\npred_prob_C = []\nfor each in pred_prob:\n    if each[0] > .9831:\n        pred_prob_C.append(0)\n    else:\n        pred_prob_C.append(1)",
      "execution_count": null,
      "outputs": []
    },
    {
      "metadata": {
        "_uuid": "8315c13f305079c2441ffa3e1355c5d1d729f5c3",
        "_cell_guid": "40a8508d-5b33-4bb9-99a9-80518f421cc0",
        "trusted": false,
        "collapsed": true
      },
      "cell_type": "code",
      "source": "confusion_matrix(y_test, pred_prob_C)",
      "execution_count": null,
      "outputs": []
    },
    {
      "metadata": {
        "_uuid": "a974706da7393c23827f188cda19bb6dcdc4669d",
        "_cell_guid": "f4574aba-1673-4600-a075-8cf8b6806724",
        "trusted": false,
        "collapsed": true
      },
      "cell_type": "code",
      "source": "print(classification_report(y_test, pred_prob_C))",
      "execution_count": null,
      "outputs": []
    },
    {
      "metadata": {
        "_uuid": "7e9518cdca2cb67acd028ec27295f24bea8ca47a"
      },
      "cell_type": "markdown",
      "source": "**Naive Bayes**"
    },
    {
      "metadata": {
        "collapsed": true,
        "_uuid": "0f2637195cea49fffbfe9e6e581afadacc981152",
        "_cell_guid": "71424c29-a8e6-4d83-b065-c1e32528dbb8",
        "trusted": false
      },
      "cell_type": "code",
      "source": "from sklearn.naive_bayes import GaussianNB",
      "execution_count": null,
      "outputs": []
    },
    {
      "metadata": {
        "collapsed": true,
        "_uuid": "40e91b2fb8cdedf624e41e69f0d14d2c64e82717",
        "_cell_guid": "c28a765e-d06a-4933-856b-69624d1b8dca",
        "trusted": false
      },
      "cell_type": "code",
      "source": "nb = GaussianNB()",
      "execution_count": null,
      "outputs": []
    },
    {
      "metadata": {
        "_uuid": "eb83c3c36aeb6cbad41c11565083077c8187078b",
        "_cell_guid": "fd27a59f-2d16-406d-bd81-e4d089b0c92e",
        "trusted": false,
        "collapsed": true
      },
      "cell_type": "code",
      "source": "nb.fit(X_train,y_train)",
      "execution_count": null,
      "outputs": []
    },
    {
      "metadata": {
        "collapsed": true,
        "_uuid": "e2a38aa95c011638472269b86125ff6c828dff1e",
        "_cell_guid": "cfd8d2ba-329d-4af8-aedd-c452a2f124aa",
        "trusted": false
      },
      "cell_type": "code",
      "source": "pred = nb.predict(X_test)",
      "execution_count": null,
      "outputs": []
    },
    {
      "metadata": {
        "_uuid": "fad0892ec44b52bb729f2951ecad8b79aa989268",
        "_cell_guid": "69100f17-19aa-4291-999c-ffd08173a592",
        "trusted": false,
        "collapsed": true
      },
      "cell_type": "code",
      "source": "confusion_matrix(y_test, pred)",
      "execution_count": null,
      "outputs": []
    },
    {
      "metadata": {
        "_uuid": "f76fc82ffe7f0f3e7da34fc6274736264a64774b",
        "_cell_guid": "0aeff6b0-2e53-4539-8c1b-3bee83eb8182",
        "trusted": false,
        "collapsed": true
      },
      "cell_type": "code",
      "source": "print(classification_report(y_test, pred))",
      "execution_count": null,
      "outputs": []
    },
    {
      "metadata": {
        "collapsed": true,
        "_uuid": "e4f0a39543a4d31c9d79a018e4e5cb141482ad01",
        "_cell_guid": "3ee36342-e3fe-4a0e-9fdf-eb4bf03f0b9e",
        "trusted": false
      },
      "cell_type": "code",
      "source": "pred_prob_C = nb.predict_proba(X_test)\npred_prob_C = []\nfor each in pred_prob:\n    if each[0] > .9831:\n        pred_prob_C.append(0)\n    else:\n        pred_prob_C.append(1)",
      "execution_count": null,
      "outputs": []
    },
    {
      "metadata": {
        "_uuid": "eef0ec1f2ee1ee17591bc5a0091feb7870e2c9bf",
        "_cell_guid": "ca09bf30-5bed-4b28-abfe-8c01a4bd584c",
        "trusted": false,
        "collapsed": true
      },
      "cell_type": "code",
      "source": "confusion_matrix(y_test, pred_prob_C)",
      "execution_count": null,
      "outputs": []
    },
    {
      "metadata": {
        "_uuid": "7df6589b07a827fbf7f4c06a6550c3cad0c94ec7",
        "_cell_guid": "d43149e1-5272-48d7-8eac-93c4df33709f",
        "trusted": false,
        "collapsed": true
      },
      "cell_type": "code",
      "source": "print(classification_report(y_test, pred_prob_C))",
      "execution_count": null,
      "outputs": []
    },
    {
      "metadata": {
        "collapsed": true,
        "_uuid": "a95f47ad2a637d911376502f354f5e6ad0553373",
        "_cell_guid": "775c5644-24f6-4ba1-99b0-380c03c253c3"
      },
      "cell_type": "markdown",
      "source": "**In case we didn't fix the skew and have used the data set as is, what would have been the score of the model ?**"
    },
    {
      "metadata": {
        "collapsed": true,
        "_uuid": "5ad0246681e59e89c39b34765c4732f7e7d084ea",
        "_cell_guid": "e431adba-dc76-49db-acb9-ce91dc38e528",
        "trusted": false
      },
      "cell_type": "code",
      "source": "y = df.Class",
      "execution_count": null,
      "outputs": []
    },
    {
      "metadata": {
        "collapsed": true,
        "_uuid": "dd8f9f4d58fa0f65756d43ca9a98514ac9115487",
        "_cell_guid": "e4d4af00-5063-41a0-ad30-8e3aa9e6bbb5",
        "trusted": false
      },
      "cell_type": "code",
      "source": "df.drop('Class', axis=1, inplace=True)",
      "execution_count": null,
      "outputs": []
    },
    {
      "metadata": {
        "collapsed": true,
        "_uuid": "e12adad15faeafb4d6b3c97d0ffacfe9e77ff241",
        "_cell_guid": "56ef4184-e111-4c9f-8f8f-6c3069e0baf7",
        "trusted": false
      },
      "cell_type": "code",
      "source": "X_train, X_test, y_train, y_test = train_test_split(df, y, test_size=0.30, random_state=101)",
      "execution_count": null,
      "outputs": []
    },
    {
      "metadata": {
        "collapsed": true,
        "_uuid": "459cf898ffacbc04c370b8f0eff97f526d7e1be0",
        "_cell_guid": "a8932b8a-c6ae-43f5-96a5-a31911d4fea2",
        "trusted": false
      },
      "cell_type": "code",
      "source": "from sklearn.linear_model import LogisticRegression",
      "execution_count": null,
      "outputs": []
    },
    {
      "metadata": {
        "collapsed": true,
        "_uuid": "39781819bd4235dd79d67a68305fb3817390cad4",
        "trusted": false
      },
      "cell_type": "code",
      "source": "lr = LogisticRegression(C=2)",
      "execution_count": null,
      "outputs": []
    },
    {
      "metadata": {
        "_uuid": "e67992d7b3ca887a657d6906409dbb1d336a2f92",
        "_cell_guid": "7000b66d-7c0e-4c26-92f3-cd5fa8612754",
        "trusted": false,
        "collapsed": true
      },
      "cell_type": "code",
      "source": "lr.fit(X_train,y_train)",
      "execution_count": null,
      "outputs": []
    },
    {
      "metadata": {
        "collapsed": true,
        "_uuid": "d751f6b72377e7e719a7f504929e8c3bea7fc219",
        "_cell_guid": "a8f40240-ffba-42a8-b423-4501350c8452",
        "trusted": false
      },
      "cell_type": "code",
      "source": "pred = lr.predict(X_test)",
      "execution_count": null,
      "outputs": []
    },
    {
      "metadata": {
        "scrolled": true,
        "_uuid": "0d457f49aa7e38c9e8ea92d73414e17d51b97979",
        "_cell_guid": "650419de-569d-4a16-a6c4-7d3a92d59270",
        "trusted": false,
        "collapsed": true
      },
      "cell_type": "code",
      "source": "confusion_matrix(y_test, pred)",
      "execution_count": null,
      "outputs": []
    },
    {
      "metadata": {
        "_uuid": "45bd937e3e02805c7e05fb9d8166ef8cc0378eae",
        "_cell_guid": "1d2ed74f-8f51-44be-a656-78f55108cefc",
        "trusted": false,
        "collapsed": true
      },
      "cell_type": "code",
      "source": "print(classification_report(y_test, pred))",
      "execution_count": null,
      "outputs": []
    },
    {
      "metadata": {
        "collapsed": true,
        "_uuid": "43d52033b4681da0697a60d34af9ec914cf03ac7",
        "_cell_guid": "a229bbe4-45de-4076-80f6-4290d2c8104b"
      },
      "cell_type": "markdown",
      "source": "A recall scroe of 0.62, while with the sampled down dataset we recieved a score of 0.91. This is why we should always fix the class skew"
    },
    {
      "metadata": {
        "collapsed": true,
        "_uuid": "a62628c150b6f1e0c5aefddf8ab5e0e98d8619a2",
        "trusted": false
      },
      "cell_type": "code",
      "source": "",
      "execution_count": null,
      "outputs": []
    }
  ],
  "metadata": {
    "language_info": {
      "nbconvert_exporter": "python",
      "name": "python",
      "codemirror_mode": {
        "version": 3,
        "name": "ipython"
      },
      "file_extension": ".py",
      "version": "3.6.4",
      "mimetype": "text/x-python",
      "pygments_lexer": "ipython3"
    },
    "kernelspec": {
      "display_name": "Python 3",
      "language": "python",
      "name": "python3"
    }
  },
  "nbformat": 4,
  "nbformat_minor": 1
}